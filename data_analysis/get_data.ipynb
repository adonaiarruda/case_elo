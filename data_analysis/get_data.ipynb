{
 "cells": [
  {
   "cell_type": "markdown",
   "id": "4b6d3b41",
   "metadata": {},
   "source": [
    "# Busca dados brutos"
   ]
  },
  {
   "cell_type": "markdown",
   "id": "8fb04c71",
   "metadata": {},
   "source": [
    "Este notebook busca dados brutos e armazena localmente para realizar processamento e análise.\n",
    "\n",
    "Os dados estão armazenados em pasta no google drive. \n",
    "\n",
    "Os arquivos estão comprimidos em pasta no formato .zip para facilitar o download. \n",
    "\n",
    "\n"
   ]
  },
  {
   "cell_type": "markdown",
   "id": "68c71ae0",
   "metadata": {},
   "source": [
    "### Define bibliotecas"
   ]
  },
  {
   "cell_type": "code",
   "execution_count": 5,
   "id": "f1c04e47",
   "metadata": {},
   "outputs": [],
   "source": [
    "import pandas\n",
    "import gdown\n",
    "import zipfile"
   ]
  },
  {
   "cell_type": "markdown",
   "id": "98a3f2ba",
   "metadata": {},
   "source": [
    "### Busca arquivo .zip"
   ]
  },
  {
   "cell_type": "code",
   "execution_count": 4,
   "id": "6f783ce2",
   "metadata": {},
   "outputs": [
    {
     "name": "stdout",
     "output_type": "stream",
     "text": [
      "Downloading data from Google Drive... URL:  https://drive.google.com/uc?id=1GINDasXHcESqGYMX6KuhEGzCZEx71wHg\n"
     ]
    },
    {
     "name": "stderr",
     "output_type": "stream",
     "text": [
      "Downloading...\n",
      "From (original): https://drive.google.com/uc?id=1GINDasXHcESqGYMX6KuhEGzCZEx71wHg\n",
      "From (redirected): https://drive.google.com/uc?id=1GINDasXHcESqGYMX6KuhEGzCZEx71wHg&confirm=t&uuid=02d8e5fb-48d8-4ddd-8c4a-6e5461427a33\n",
      "To: /home/adonai/case_elo/data_analysis/raw_data.zip\n",
      "100%|██████████| 38.3M/38.3M [00:02<00:00, 15.1MB/s]\n"
     ]
    },
    {
     "data": {
      "text/plain": [
       "'raw_data.zip'"
      ]
     },
     "execution_count": 4,
     "metadata": {},
     "output_type": "execute_result"
    }
   ],
   "source": [
    "file_id = \"1GINDasXHcESqGYMX6KuhEGzCZEx71wHg\"\n",
    "url = f\"https://drive.google.com/uc?id={file_id}\"\n",
    "output_filename = \"raw_data.zip\"\n",
    "print(\"Downloading data from Google Drive... URL: \", url)\n",
    "gdown.download(url, output=output_filename, quiet=False, use_cookies=True)\n"
   ]
  },
  {
   "cell_type": "markdown",
   "id": "56c02c07",
   "metadata": {},
   "source": [
    "### Descomprime arquivos"
   ]
  },
  {
   "cell_type": "code",
   "execution_count": 6,
   "id": "a6021716",
   "metadata": {},
   "outputs": [],
   "source": [
    "with zipfile.ZipFile(\"raw_data.zip\", 'r') as zip_ref:\n",
    "    zip_ref.extractall(\"\")"
   ]
  }
 ],
 "metadata": {
  "kernelspec": {
   "display_name": ".case_elo_env",
   "language": "python",
   "name": "python3"
  },
  "language_info": {
   "codemirror_mode": {
    "name": "ipython",
    "version": 3
   },
   "file_extension": ".py",
   "mimetype": "text/x-python",
   "name": "python",
   "nbconvert_exporter": "python",
   "pygments_lexer": "ipython3",
   "version": "3.12.3"
  }
 },
 "nbformat": 4,
 "nbformat_minor": 5
}
