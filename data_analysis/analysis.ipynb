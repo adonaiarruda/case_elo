{
 "cells": [
  {
   "cell_type": "markdown",
   "id": "5811ee04",
   "metadata": {},
   "source": [
    "# Análise de Dados"
   ]
  },
  {
   "cell_type": "markdown",
   "id": "695a475d",
   "metadata": {},
   "source": [
    "## Definição de bibliotecas"
   ]
  },
  {
   "cell_type": "code",
   "execution_count": 98,
   "id": "31841a87",
   "metadata": {},
   "outputs": [],
   "source": [
    "import pandas as pd\n",
    "import numpy as np\n",
    "from datetime import datetime\n",
    "import matplotlib.pyplot as plt\n",
    "import seaborn as sns\n",
    "import os"
   ]
  },
  {
   "cell_type": "markdown",
   "id": "65700658",
   "metadata": {},
   "source": [
    "## Importação de dados"
   ]
  },
  {
   "cell_type": "code",
   "execution_count": 49,
   "id": "cb9d5dc8",
   "metadata": {},
   "outputs": [],
   "source": [
    "df_demographic = pd.read_csv('curated_data/demographic_data.csv')\n",
    "df_economic = pd.read_csv('curated_data/economic_data.csv', index_col=0)\n",
    "df_geographic = pd.read_csv('curated_data/geographic_data.csv')\n",
    "df_exams = pd.read_csv('curated_data/exams_data.csv')\n",
    "df_transactional = pd.read_csv('curated_data/transactional_data.csv')"
   ]
  },
  {
   "cell_type": "markdown",
   "id": "a34cf6b5",
   "metadata": {},
   "source": [
    "## Hipóteses iniciais para solução do problema"
   ]
  },
  {
   "cell_type": "markdown",
   "id": "171380a7",
   "metadata": {},
   "source": [
    "Apresentando algumas hipóteses de negócio iniciais que serão verificadas na análise:\n",
    "- Áreas com maior poder aquisitivo (renda familiar) têm maior potencial de lucro para os laboratórios.\n",
    "- Áreas com maior densidade populacional apresentam maior lucro para os laboratórios.\n",
    "- Áreas com população mais feminina apresentam maior demanda de serviços de laboratório.\n",
    "- Áreas com população mais idosa apresentam maior demanda de serviços de laboratório.\n",
    "- Áreas com mais de um laboratório apresentam menor lucro.\n"
   ]
  },
  {
   "cell_type": "markdown",
   "id": "9b5bf594",
   "metadata": {},
   "source": [
    "## Agregação e transformação de dados"
   ]
  },
  {
   "cell_type": "markdown",
   "id": "c111b6b7",
   "metadata": {},
   "source": [
    "Combina informação de custo dos exames e lucro por exame"
   ]
  },
  {
   "cell_type": "code",
   "execution_count": 50,
   "id": "beafbc15",
   "metadata": {},
   "outputs": [],
   "source": [
    "df_transactional = pd.merge(df_transactional, df_exams[['CodItem', 'test_price']], how='left', on='CodItem')\n",
    "df_transactional['exam_profit'] = df_transactional['Testing Cost'] - df_transactional['test_price']"
   ]
  },
  {
   "cell_type": "markdown",
   "id": "2538cef1",
   "metadata": {},
   "source": [
    "Combina informação de área geográfica do laboratório"
   ]
  },
  {
   "cell_type": "code",
   "execution_count": 51,
   "id": "cb0d9877",
   "metadata": {},
   "outputs": [],
   "source": [
    "df_transactional = pd.merge(df_transactional, df_geographic, how='left', on='Lab Id')"
   ]
  },
  {
   "cell_type": "markdown",
   "id": "14584285",
   "metadata": {},
   "source": [
    "Agrega informações referentes aos laboratórios e as áreas geográficas:\n",
    "\n",
    "- total de serviços prestados\n",
    "- total vendido em exames\n",
    "- número de exames diferentes\n",
    "- número de pacientes\n",
    "- idade média dos pacientes\n",
    "- taxa de homens/mulheres\n",
    "- custo total dos exames"
   ]
  },
  {
   "cell_type": "code",
   "execution_count": 52,
   "id": "0edc169a",
   "metadata": {},
   "outputs": [],
   "source": [
    "lab_zcta_info = df_transactional.reset_index().groupby('Geographic Area Name').agg(\n",
    "    total_services=('Service Id', 'count'),\n",
    "    total_revenue=('Testing Cost', 'sum'),\n",
    "    number_of_different_exams=('CodItem', 'count'),\n",
    "    number_of_patients=('Patient Id', 'nunique'),\n",
    "    age=('age_at_service', 'median'),\n",
    "    is_male=('is_male', 'mean'),  \n",
    "    total_cost=('test_price', 'sum'),\n",
    "    total_profit=('exam_profit', 'sum'),\n",
    "    number_of_labs=('Lab Id', 'nunique'),\n",
    ").reset_index()\n"
   ]
  },
  {
   "cell_type": "markdown",
   "id": "b7143d3a",
   "metadata": {},
   "source": [
    "Combina informações econômicas"
   ]
  },
  {
   "cell_type": "code",
   "execution_count": 53,
   "id": "ff87ab8e",
   "metadata": {},
   "outputs": [],
   "source": [
    "lab_zcta_info = pd.merge(lab_zcta_info, \n",
    "                        df_economic[['Geographic Area Name', 'TotalHouseholds', 'WeightedMeanIncome']], \n",
    "                        on='Geographic Area Name', \n",
    "                        how='left')"
   ]
  },
  {
   "cell_type": "markdown",
   "id": "59a7063f",
   "metadata": {},
   "source": [
    "Combina informações demográficas"
   ]
  },
  {
   "cell_type": "code",
   "execution_count": 54,
   "id": "9455b4d3",
   "metadata": {},
   "outputs": [],
   "source": [
    "lab_zcta_info = pd.merge(lab_zcta_info, \n",
    "                        df_demographic[['Geographic Area Name', \n",
    "                                        'TotalPopulation', \n",
    "                                        'male_female_ratio',\n",
    "                                        'MedianAgeInYears']], \n",
    "                        on='Geographic Area Name',\n",
    "                        how='left')"
   ]
  },
  {
   "cell_type": "code",
   "execution_count": 55,
   "id": "4bcaebda",
   "metadata": {},
   "outputs": [
    {
     "data": {
      "application/vnd.microsoft.datawrangler.viewer.v0+json": {
       "columns": [
        {
         "name": "index",
         "rawType": "int64",
         "type": "integer"
        },
        {
         "name": "Geographic Area Name",
         "rawType": "object",
         "type": "string"
        },
        {
         "name": "total_services",
         "rawType": "int64",
         "type": "integer"
        },
        {
         "name": "total_revenue",
         "rawType": "float64",
         "type": "float"
        },
        {
         "name": "number_of_different_exams",
         "rawType": "int64",
         "type": "integer"
        },
        {
         "name": "number_of_patients",
         "rawType": "int64",
         "type": "integer"
        },
        {
         "name": "age",
         "rawType": "float64",
         "type": "float"
        },
        {
         "name": "is_male",
         "rawType": "float64",
         "type": "float"
        },
        {
         "name": "total_cost",
         "rawType": "float64",
         "type": "float"
        },
        {
         "name": "total_profit",
         "rawType": "float64",
         "type": "float"
        },
        {
         "name": "number_of_labs",
         "rawType": "int64",
         "type": "integer"
        },
        {
         "name": "TotalHouseholds",
         "rawType": "float64",
         "type": "float"
        },
        {
         "name": "WeightedMeanIncome",
         "rawType": "float64",
         "type": "float"
        },
        {
         "name": "TotalPopulation",
         "rawType": "float64",
         "type": "float"
        },
        {
         "name": "male_female_ratio",
         "rawType": "float64",
         "type": "float"
        },
        {
         "name": "MedianAgeInYears",
         "rawType": "float64",
         "type": "float"
        }
       ],
       "conversionMethod": "pd.DataFrame",
       "ref": "4567dbcb-ff1d-4cdf-8927-c4a9418bd438",
       "rows": [
        [
         "0",
         "ZCTA5 01605",
         "12699",
         "324656.36",
         "12699",
         "2501",
         "45.0",
         "0.36947791164658633",
         "36503.75",
         "288152.61",
         "1",
         "10673.0",
         "58121.5216",
         "28533.0",
         "97.5",
         "32.6"
        ],
        [
         "1",
         "ZCTA5 01606",
         "8441",
         "315563.08",
         "8441",
         "2318",
         "41.0",
         "0.3349129250088852",
         "71654.1",
         "243908.98",
         "1",
         "8159.0",
         "84168.2191",
         "19896.0",
         "92.8",
         "41.3"
        ],
        [
         "2",
         "ZCTA5 01701",
         "18105",
         "937777.16",
         "18105",
         "4304",
         "41.0",
         "0.4253521126760563",
         "180950.9",
         "756826.26",
         "1",
         "13054.0",
         "131501.4938",
         "32590.0",
         "97.8",
         "45.8"
        ],
        [
         "3",
         "ZCTA5 01702",
         "20271",
         "508871.8",
         "20271",
         "4520",
         "39.0",
         "0.4097972472990972",
         "66202.01",
         "442669.79",
         "1",
         "15212.0",
         "85896.4304",
         "39799.0",
         "95.6",
         "34.9"
        ],
        [
         "4",
         "ZCTA5 01840",
         "34047",
         "1266031.62",
         "34047",
         "7800",
         "44.0",
         "0.4140746614973419",
         "438251.10000000003",
         "827780.52",
         "1",
         "2265.0",
         "44602.649",
         "5573.0",
         "96.4",
         "35.2"
        ],
        [
         "5",
         "ZCTA5 01844",
         "9621",
         "250784.72",
         "9621",
         "1931",
         "46.0",
         "0.38561480095624157",
         "30422.8",
         "220361.92",
         "1",
         "17907.0",
         "97743.3127",
         "50282.0",
         "92.6",
         "40.7"
        ],
        [
         "6",
         "ZCTA5 01950",
         "6864",
         "184408.36",
         "6864",
         "1289",
         "42.0",
         "0.4018065268065268",
         "19544.89",
         "164863.47",
         "1",
         "7836.0",
         "135680.1302",
         "18077.0",
         "83.6",
         "48.9"
        ],
        [
         "7",
         "ZCTA5 02019",
         "6097",
         "152876.36",
         "6097",
         "1231",
         "49.0",
         "0.40544530096768905",
         "17874.91",
         "135001.45",
         "1",
         "6526.0",
         "116054.7043",
         "17108.0",
         "103.1",
         "40.7"
        ],
        [
         "8",
         "ZCTA5 02169",
         "48606",
         "2680027.48",
         "48606",
         "10555",
         "44.0",
         "0.356396329671234",
         "928283.11",
         "1746111.3699999999",
         "1",
         "25468.0",
         "89812.6472",
         "56523.0",
         "91.7",
         "38.6"
        ],
        [
         "9",
         "ZCTA5 02190",
         "7119",
         "182678.0",
         "7119",
         "1590",
         "37.0",
         "0.3551060542210985",
         "22888.14",
         "159789.86",
         "1",
         "7389.0",
         "111757.8833",
         "17247.0",
         "93.8",
         "43.3"
        ],
        [
         "10",
         "ZCTA5 02359",
         "7291",
         "209516.08",
         "7291",
         "1702",
         "45.0",
         "0.4107804142092991",
         "28053.35",
         "181462.73",
         "1",
         "6563.0",
         "125022.9316",
         "18380.0",
         "95.8",
         "43.8"
        ],
        [
         "11",
         "ZCTA5 02762",
         "3880",
         "101597.36",
         "3880",
         "929",
         "43.0",
         "0.3425257731958763",
         "12915.25",
         "88682.11",
         "1",
         "3666.0",
         "114010.6383",
         "9183.0",
         "95.7",
         "42.0"
        ],
        [
         "12",
         "ZCTA5 03054",
         "10909",
         "363752.72",
         "10909",
         "1814",
         "41.0",
         "0.40425336877807316",
         "44854.39",
         "318898.33",
         "1",
         "9951.0",
         "122189.0262",
         "25945.0",
         "102.1",
         "42.9"
        ],
        [
         "13",
         "ZCTA5 03079",
         "13549",
         "409597.44",
         "13549",
         "2677",
         "47.0",
         "0.38047088346003394",
         "51788.47",
         "357808.97",
         "1",
         "11536.0",
         "112071.1685",
         "29234.0",
         "102.9",
         "44.0"
        ],
        [
         "14",
         "ZCTA5 03087",
         "6129",
         "180851.0",
         "6129",
         "1376",
         "46.0",
         "0.37722303801598955",
         "21097.37",
         "159753.63",
         "2",
         "5009.0",
         "164531.4434",
         "14610.0",
         "98.2",
         "44.0"
        ],
        [
         "15",
         "ZCTA5 08002",
         "10439",
         "472234.44",
         "10439",
         "2490",
         "41.0",
         "0.4187182680333365",
         "125328.23",
         "346877.21",
         "1",
         "8956.0",
         "102799.6315",
         "22964.0",
         "90.5",
         "41.4"
        ],
        [
         "16",
         "ZCTA5 08108",
         "7295",
         "219487.36",
         "7295",
         "1415",
         "43.0",
         "0.3379026730637423",
         "27636.1",
         "191851.26",
         "1",
         "7631.0",
         "119619.2504",
         "18333.0",
         "91.6",
         "42.9"
        ],
        [
         "17",
         "ZCTA5 08109",
         "9275",
         "255846.72",
         "9275",
         "1598",
         "43.0",
         "0.3805929919137466",
         "28525.829999999998",
         "227320.88999999998",
         "1",
         "8422.0",
         "82459.5108",
         "22235.0",
         "91.7",
         "40.5"
        ],
        [
         "18",
         "ZCTA5 09107",
         "14019",
         "446152.5",
         "14019",
         "3311",
         "38.0",
         "0.34988230258934305",
         "75672.29",
         "370480.21",
         "1",
         null,
         null,
         null,
         null,
         null
        ],
        [
         "19",
         "ZCTA5 09134",
         "46946",
         "1887569.82",
         "46946",
         "9425",
         "45.0",
         "0.32914412303497637",
         "583039.1900000001",
         "1304530.63",
         "1",
         null,
         null,
         null,
         null,
         null
        ],
        [
         "20",
         "ZCTA5 13057",
         "5454",
         "159694.36",
         "5454",
         "1002",
         "45.0",
         "0.38027136046938026",
         "18312.53",
         "141381.83",
         "1",
         "6121.0",
         "77335.4027",
         "13643.0",
         "93.0",
         "48.1"
        ],
        [
         "21",
         "ZCTA5 13088",
         "9750",
         "247454.0",
         "9750",
         "1804",
         "40.0",
         "0.4114871794871795",
         "29013.32",
         "218440.68",
         "1",
         "10151.0",
         "73617.4761",
         "21917.0",
         "84.2",
         "43.8"
        ],
        [
         "22",
         "ZCTA5 13090",
         "4310",
         "114833.0",
         "4310",
         "954",
         "40.0",
         "0.37610208816705337",
         "14053.69",
         "100779.31",
         "1",
         "12184.0",
         "92964.1743",
         "29869.0",
         "98.0",
         "38.0"
        ],
        [
         "23",
         "ZCTA5 13304",
         "2289",
         "60078.0",
         "2289",
         "500",
         "43.0",
         "0.3691568370467453",
         "7086.39",
         "52991.61",
         "1",
         "697.0",
         "108619.7991",
         "1617.0",
         "95.8",
         "50.2"
        ],
        [
         "24",
         "ZCTA5 13357",
         "4177",
         "122198.0",
         "4177",
         "973",
         "36.0",
         "0.3543212832176203",
         "13615.95",
         "108582.05",
         "1",
         "4184.0",
         "64677.8203",
         "10786.0",
         "99.4",
         "40.1"
        ],
        [
         "25",
         "ZCTA5 13413",
         "10364",
         "365559.0",
         "10364",
         "2932",
         "46.0",
         "0.3861443458124276",
         "58222.28",
         "307296.72",
         "2",
         "6393.0",
         "99445.6437",
         "15777.0",
         "85.4",
         "47.4"
        ],
        [
         "26",
         "ZCTA5 13421",
         "5122",
         "177254.72",
         "5122",
         "1253",
         "45.0",
         "0.3379539242483405",
         "30424.51",
         "146830.21",
         "1",
         "5404.0",
         "67883.2346",
         "13149.0",
         "90.6",
         "42.8"
        ],
        [
         "27",
         "ZCTA5 13440",
         "20562",
         "583036.96",
         "20562",
         "3816",
         "44.0",
         "0.36830074895438186",
         "79524.27",
         "502571.69",
         "1",
         "16261.0",
         "68397.3003",
         "41014.0",
         "104.2",
         "40.5"
        ],
        [
         "28",
         "ZCTA5 13441",
         "2803",
         "104611.0",
         "2803",
         "704",
         "52.0",
         "0.32144131287905814",
         "14550.2",
         "90060.8",
         "1",
         "103.0",
         "58917.4757",
         "184.0",
         "185.7899999999998",
         "26.0"
        ],
        [
         "29",
         "ZCTA5 13502",
         "14414",
         "762975.44",
         "14414",
         "3580",
         "44.0",
         "0.23719994449840434",
         "325331.77",
         "437643.67",
         "1",
         "12936.0",
         "61168.9858",
         "33314.0",
         "102.8",
         "36.3"
        ],
        [
         "30",
         "ZCTA5 19004",
         "3825",
         "119087.36",
         "3825",
         "744",
         "41.0",
         "0.47032679738562094",
         "13694.97",
         "105392.39",
         "1",
         "3901.0",
         "143654.9603",
         "9524.0",
         "84.0",
         "45.0"
        ],
        [
         "31",
         "ZCTA5 19036",
         "5101",
         "217911.0",
         "5101",
         "1375",
         "39.0",
         "0.34091354636345816",
         "42472.76",
         "175438.24",
         "1",
         "5327.0",
         "78419.5607",
         "12894.0",
         "87.3",
         "41.1"
        ],
        [
         "32",
         "ZCTA5 19050",
         "8367",
         "303622.36",
         "8367",
         "1433",
         "37.0",
         "0.4821321859686865",
         "52514.450000000004",
         "251107.91",
         "1",
         "11174.0",
         "72846.1607",
         "27976.0",
         "86.1",
         "39.7"
        ],
        [
         "33",
         "ZCTA5 19096",
         "5271",
         "163662.08",
         "5271",
         "1284",
         "44.0",
         "0.41927527983304874",
         "22873.32",
         "140788.76",
         "1",
         "5642.0",
         "157978.2878",
         "13695.0",
         "85.7",
         "47.0"
        ],
        [
         "34",
         "ZCTA5 19104",
         "23472",
         "1015409.08",
         "23472",
         "4932",
         "41.0",
         "0.3478186775732788",
         "287535.76",
         "727873.32",
         "1",
         "16340.0",
         "44249.2044",
         "53560.0",
         "95.1",
         "22.9"
        ],
        [
         "35",
         "ZCTA5 19106",
         "20102",
         "1922194.72",
         "20102",
         "5778",
         "46.0",
         "0.33001691373992637",
         "814702.4400000001",
         "1107492.28",
         "1",
         "6736.0",
         "134564.7268",
         "12592.0",
         "98.0",
         "38.6"
        ],
        [
         "36",
         "ZCTA5 19107",
         "5484",
         "140865.36",
         "5484",
         "1155",
         "44.0",
         "0.4086433260393873",
         "15542.24",
         "125323.12",
         "1",
         "7675.0",
         "83225.9283",
         "14526.0",
         "94.8",
         "30.8"
        ],
        [
         "37",
         "ZCTA5 19120",
         "76749",
         "4737957.04",
         "76749",
         "19065",
         "38.0",
         "0.3681481191937354",
         "1014312.1",
         "3722300.94",
         "1",
         "23445.0",
         "49856.7285",
         "74060.0",
         "90.6",
         "30.2"
        ],
        [
         "38",
         "ZCTA5 19124",
         "49406",
         "1896191.02",
         "49406",
         "10799",
         "42.0",
         "0.388879893130389",
         "540285.79",
         "1355905.23",
         "1",
         "22609.0",
         "48097.7929",
         "70304.0",
         "90.5",
         "31.0"
        ],
        [
         "39",
         "ZCTA5 19140",
         "35146",
         "1015312.08",
         "35146",
         "5354",
         "39.0",
         "0.3311329881067547",
         "127959.34",
         "887352.74",
         "1",
         "18811.0",
         "34633.1136",
         "51766.0",
         "88.7",
         "35.0"
        ],
        [
         "40",
         "ZCTA5 19143",
         "68969",
         "6434748.6",
         "68969",
         "17408",
         "44.0",
         "0.3333091678870217",
         "2238264.5",
         "4196484.1",
         "1",
         "25102.0",
         "50399.2909",
         "64630.0",
         "80.5",
         "32.9"
        ],
        [
         "41",
         "ZCTA5 19144",
         "31164",
         "1327624.07",
         "31164",
         "6228",
         "39.0",
         "0.3142728789629059",
         "383351.79000000004",
         "941057.99",
         "1",
         "18530.0",
         "52740.4479",
         "43884.0",
         "80.5",
         "34.9"
        ],
        [
         "42",
         "ZCTA5 19145",
         "1963",
         "77313.0",
         "1963",
         "805",
         "56.0",
         "0.4212939378502292",
         "10418.8",
         "66894.2",
         "1",
         "18379.0",
         "63249.3335",
         "46052.0",
         "91.1",
         "37.8"
        ],
        [
         "43",
         "ZCTA5 19148",
         "73726",
         "2651794.42",
         "73726",
         "16682",
         "43.0",
         "0.3519246941377533",
         "831000.25",
         "1820794.17",
         "2",
         "19261.0",
         "70149.9403",
         "52259.0",
         "98.3",
         "36.4"
        ],
        [
         "44",
         "ZCTA5 30009",
         "1290",
         "39052.0",
         "1290",
         "371",
         "50.0",
         "0.3930232558139535",
         "5313.16",
         "33738.84",
         "1",
         "6929.0",
         "127578.2941",
         "17371.0",
         "98.3",
         "40.6"
        ],
        [
         "45",
         "ZCTA5 30012",
         "11715",
         "383000.46",
         "11715",
         "2236",
         "37.0",
         "0.37123346137430646",
         "44610.75",
         "338389.71",
         "1",
         "9932.0",
         "66047.7245",
         "28591.0",
         "85.1",
         "34.9"
        ],
        [
         "46",
         "ZCTA5 30033",
         "33781",
         "1349679.52",
         "33781",
         "6411",
         "45.0",
         "0.3228145999230337",
         "456219.33",
         "893460.19",
         "1",
         "13128.0",
         "110475.8912",
         "32847.0",
         "88.7",
         "36.6"
        ],
        [
         "47",
         "ZCTA5 30060",
         "19913",
         "713819.08",
         "19913",
         "4477",
         "40.0",
         "0.48330236528900716",
         "158054.41",
         "555764.67",
         "1",
         "13830.0",
         "65566.1244",
         "40290.0",
         "102.9",
         "32.7"
        ],
        [
         "48",
         "ZCTA5 30062",
         "50439",
         "1581032.52",
         "50439",
         "10622",
         "47.0",
         "0.34616070897519774",
         "432441.49",
         "1145991.03",
         "1",
         "23561.0",
         "125817.1767",
         "65801.0",
         "97.5",
         "40.3"
        ],
        [
         "49",
         "ZCTA5 30078",
         "17453",
         "606299.36",
         "17453",
         "3171",
         "43.0",
         "0.3723142153211482",
         "148495.97",
         "457803.39",
         "1",
         "11213.0",
         "91127.9319",
         "35601.0",
         "90.7",
         "38.7"
        ]
       ],
       "shape": {
        "columns": 15,
        "rows": 104
       }
      },
      "text/html": [
       "<div>\n",
       "<style scoped>\n",
       "    .dataframe tbody tr th:only-of-type {\n",
       "        vertical-align: middle;\n",
       "    }\n",
       "\n",
       "    .dataframe tbody tr th {\n",
       "        vertical-align: top;\n",
       "    }\n",
       "\n",
       "    .dataframe thead th {\n",
       "        text-align: right;\n",
       "    }\n",
       "</style>\n",
       "<table border=\"1\" class=\"dataframe\">\n",
       "  <thead>\n",
       "    <tr style=\"text-align: right;\">\n",
       "      <th></th>\n",
       "      <th>Geographic Area Name</th>\n",
       "      <th>total_services</th>\n",
       "      <th>total_revenue</th>\n",
       "      <th>number_of_different_exams</th>\n",
       "      <th>number_of_patients</th>\n",
       "      <th>age</th>\n",
       "      <th>is_male</th>\n",
       "      <th>total_cost</th>\n",
       "      <th>total_profit</th>\n",
       "      <th>number_of_labs</th>\n",
       "      <th>TotalHouseholds</th>\n",
       "      <th>WeightedMeanIncome</th>\n",
       "      <th>TotalPopulation</th>\n",
       "      <th>male_female_ratio</th>\n",
       "      <th>MedianAgeInYears</th>\n",
       "    </tr>\n",
       "  </thead>\n",
       "  <tbody>\n",
       "    <tr>\n",
       "      <th>0</th>\n",
       "      <td>ZCTA5 01605</td>\n",
       "      <td>12699</td>\n",
       "      <td>324656.36</td>\n",
       "      <td>12699</td>\n",
       "      <td>2501</td>\n",
       "      <td>45.0</td>\n",
       "      <td>0.369478</td>\n",
       "      <td>36503.75</td>\n",
       "      <td>288152.61</td>\n",
       "      <td>1</td>\n",
       "      <td>10673.0</td>\n",
       "      <td>58121.5216</td>\n",
       "      <td>28533.0</td>\n",
       "      <td>97.5</td>\n",
       "      <td>32.6</td>\n",
       "    </tr>\n",
       "    <tr>\n",
       "      <th>1</th>\n",
       "      <td>ZCTA5 01606</td>\n",
       "      <td>8441</td>\n",
       "      <td>315563.08</td>\n",
       "      <td>8441</td>\n",
       "      <td>2318</td>\n",
       "      <td>41.0</td>\n",
       "      <td>0.334913</td>\n",
       "      <td>71654.10</td>\n",
       "      <td>243908.98</td>\n",
       "      <td>1</td>\n",
       "      <td>8159.0</td>\n",
       "      <td>84168.2191</td>\n",
       "      <td>19896.0</td>\n",
       "      <td>92.8</td>\n",
       "      <td>41.3</td>\n",
       "    </tr>\n",
       "    <tr>\n",
       "      <th>2</th>\n",
       "      <td>ZCTA5 01701</td>\n",
       "      <td>18105</td>\n",
       "      <td>937777.16</td>\n",
       "      <td>18105</td>\n",
       "      <td>4304</td>\n",
       "      <td>41.0</td>\n",
       "      <td>0.425352</td>\n",
       "      <td>180950.90</td>\n",
       "      <td>756826.26</td>\n",
       "      <td>1</td>\n",
       "      <td>13054.0</td>\n",
       "      <td>131501.4938</td>\n",
       "      <td>32590.0</td>\n",
       "      <td>97.8</td>\n",
       "      <td>45.8</td>\n",
       "    </tr>\n",
       "    <tr>\n",
       "      <th>3</th>\n",
       "      <td>ZCTA5 01702</td>\n",
       "      <td>20271</td>\n",
       "      <td>508871.80</td>\n",
       "      <td>20271</td>\n",
       "      <td>4520</td>\n",
       "      <td>39.0</td>\n",
       "      <td>0.409797</td>\n",
       "      <td>66202.01</td>\n",
       "      <td>442669.79</td>\n",
       "      <td>1</td>\n",
       "      <td>15212.0</td>\n",
       "      <td>85896.4304</td>\n",
       "      <td>39799.0</td>\n",
       "      <td>95.6</td>\n",
       "      <td>34.9</td>\n",
       "    </tr>\n",
       "    <tr>\n",
       "      <th>4</th>\n",
       "      <td>ZCTA5 01840</td>\n",
       "      <td>34047</td>\n",
       "      <td>1266031.62</td>\n",
       "      <td>34047</td>\n",
       "      <td>7800</td>\n",
       "      <td>44.0</td>\n",
       "      <td>0.414075</td>\n",
       "      <td>438251.10</td>\n",
       "      <td>827780.52</td>\n",
       "      <td>1</td>\n",
       "      <td>2265.0</td>\n",
       "      <td>44602.6490</td>\n",
       "      <td>5573.0</td>\n",
       "      <td>96.4</td>\n",
       "      <td>35.2</td>\n",
       "    </tr>\n",
       "    <tr>\n",
       "      <th>...</th>\n",
       "      <td>...</td>\n",
       "      <td>...</td>\n",
       "      <td>...</td>\n",
       "      <td>...</td>\n",
       "      <td>...</td>\n",
       "      <td>...</td>\n",
       "      <td>...</td>\n",
       "      <td>...</td>\n",
       "      <td>...</td>\n",
       "      <td>...</td>\n",
       "      <td>...</td>\n",
       "      <td>...</td>\n",
       "      <td>...</td>\n",
       "      <td>...</td>\n",
       "      <td>...</td>\n",
       "    </tr>\n",
       "    <tr>\n",
       "      <th>99</th>\n",
       "      <td>ZCTA5 98122</td>\n",
       "      <td>28125</td>\n",
       "      <td>818551.72</td>\n",
       "      <td>28125</td>\n",
       "      <td>5938</td>\n",
       "      <td>43.0</td>\n",
       "      <td>0.398187</td>\n",
       "      <td>155596.32</td>\n",
       "      <td>662955.40</td>\n",
       "      <td>1</td>\n",
       "      <td>19467.0</td>\n",
       "      <td>113960.5486</td>\n",
       "      <td>39305.0</td>\n",
       "      <td>113.3</td>\n",
       "      <td>31.3</td>\n",
       "    </tr>\n",
       "    <tr>\n",
       "      <th>100</th>\n",
       "      <td>ZCTA5 98133</td>\n",
       "      <td>38604</td>\n",
       "      <td>2502586.80</td>\n",
       "      <td>38604</td>\n",
       "      <td>8523</td>\n",
       "      <td>41.0</td>\n",
       "      <td>0.329577</td>\n",
       "      <td>618025.82</td>\n",
       "      <td>1884560.98</td>\n",
       "      <td>1</td>\n",
       "      <td>21650.0</td>\n",
       "      <td>89838.0139</td>\n",
       "      <td>48650.0</td>\n",
       "      <td>92.3</td>\n",
       "      <td>39.9</td>\n",
       "    </tr>\n",
       "    <tr>\n",
       "      <th>101</th>\n",
       "      <td>ZCTA5 98148</td>\n",
       "      <td>10214</td>\n",
       "      <td>289757.00</td>\n",
       "      <td>10214</td>\n",
       "      <td>2178</td>\n",
       "      <td>47.0</td>\n",
       "      <td>0.389368</td>\n",
       "      <td>35550.32</td>\n",
       "      <td>254206.68</td>\n",
       "      <td>2</td>\n",
       "      <td>4616.0</td>\n",
       "      <td>81228.4445</td>\n",
       "      <td>12149.0</td>\n",
       "      <td>95.3</td>\n",
       "      <td>35.8</td>\n",
       "    </tr>\n",
       "    <tr>\n",
       "      <th>102</th>\n",
       "      <td>ZCTA5 98370</td>\n",
       "      <td>14251</td>\n",
       "      <td>380667.80</td>\n",
       "      <td>14251</td>\n",
       "      <td>2957</td>\n",
       "      <td>40.0</td>\n",
       "      <td>0.383342</td>\n",
       "      <td>47799.42</td>\n",
       "      <td>332238.38</td>\n",
       "      <td>1</td>\n",
       "      <td>12393.0</td>\n",
       "      <td>106252.9250</td>\n",
       "      <td>31278.0</td>\n",
       "      <td>94.0</td>\n",
       "      <td>43.4</td>\n",
       "    </tr>\n",
       "    <tr>\n",
       "      <th>103</th>\n",
       "      <td>ZCTA5 98383</td>\n",
       "      <td>9151</td>\n",
       "      <td>233019.00</td>\n",
       "      <td>9151</td>\n",
       "      <td>1971</td>\n",
       "      <td>43.0</td>\n",
       "      <td>0.383565</td>\n",
       "      <td>28060.02</td>\n",
       "      <td>204958.98</td>\n",
       "      <td>1</td>\n",
       "      <td>8720.0</td>\n",
       "      <td>101698.0505</td>\n",
       "      <td>21941.0</td>\n",
       "      <td>103.1</td>\n",
       "      <td>37.0</td>\n",
       "    </tr>\n",
       "  </tbody>\n",
       "</table>\n",
       "<p>104 rows × 15 columns</p>\n",
       "</div>"
      ],
      "text/plain": [
       "    Geographic Area Name  total_services  total_revenue  \\\n",
       "0            ZCTA5 01605           12699      324656.36   \n",
       "1            ZCTA5 01606            8441      315563.08   \n",
       "2            ZCTA5 01701           18105      937777.16   \n",
       "3            ZCTA5 01702           20271      508871.80   \n",
       "4            ZCTA5 01840           34047     1266031.62   \n",
       "..                   ...             ...            ...   \n",
       "99           ZCTA5 98122           28125      818551.72   \n",
       "100          ZCTA5 98133           38604     2502586.80   \n",
       "101          ZCTA5 98148           10214      289757.00   \n",
       "102          ZCTA5 98370           14251      380667.80   \n",
       "103          ZCTA5 98383            9151      233019.00   \n",
       "\n",
       "     number_of_different_exams  number_of_patients   age   is_male  \\\n",
       "0                        12699                2501  45.0  0.369478   \n",
       "1                         8441                2318  41.0  0.334913   \n",
       "2                        18105                4304  41.0  0.425352   \n",
       "3                        20271                4520  39.0  0.409797   \n",
       "4                        34047                7800  44.0  0.414075   \n",
       "..                         ...                 ...   ...       ...   \n",
       "99                       28125                5938  43.0  0.398187   \n",
       "100                      38604                8523  41.0  0.329577   \n",
       "101                      10214                2178  47.0  0.389368   \n",
       "102                      14251                2957  40.0  0.383342   \n",
       "103                       9151                1971  43.0  0.383565   \n",
       "\n",
       "     total_cost  total_profit  number_of_labs  TotalHouseholds  \\\n",
       "0      36503.75     288152.61               1          10673.0   \n",
       "1      71654.10     243908.98               1           8159.0   \n",
       "2     180950.90     756826.26               1          13054.0   \n",
       "3      66202.01     442669.79               1          15212.0   \n",
       "4     438251.10     827780.52               1           2265.0   \n",
       "..          ...           ...             ...              ...   \n",
       "99    155596.32     662955.40               1          19467.0   \n",
       "100   618025.82    1884560.98               1          21650.0   \n",
       "101    35550.32     254206.68               2           4616.0   \n",
       "102    47799.42     332238.38               1          12393.0   \n",
       "103    28060.02     204958.98               1           8720.0   \n",
       "\n",
       "     WeightedMeanIncome  TotalPopulation  male_female_ratio  MedianAgeInYears  \n",
       "0            58121.5216          28533.0               97.5              32.6  \n",
       "1            84168.2191          19896.0               92.8              41.3  \n",
       "2           131501.4938          32590.0               97.8              45.8  \n",
       "3            85896.4304          39799.0               95.6              34.9  \n",
       "4            44602.6490           5573.0               96.4              35.2  \n",
       "..                  ...              ...                ...               ...  \n",
       "99          113960.5486          39305.0              113.3              31.3  \n",
       "100          89838.0139          48650.0               92.3              39.9  \n",
       "101          81228.4445          12149.0               95.3              35.8  \n",
       "102         106252.9250          31278.0               94.0              43.4  \n",
       "103         101698.0505          21941.0              103.1              37.0  \n",
       "\n",
       "[104 rows x 15 columns]"
      ]
     },
     "execution_count": 55,
     "metadata": {},
     "output_type": "execute_result"
    }
   ],
   "source": [
    "lab_zcta_info"
   ]
  },
  {
   "cell_type": "markdown",
   "id": "0da37fbe",
   "metadata": {},
   "source": [
    "É possível que a distribuição do lucro por zona esteja distorcida, devido a alta concentração de zonas com baixo lucro e baixa concetração de lucros muito altos. "
   ]
  },
  {
   "cell_type": "code",
   "execution_count": 59,
   "id": "fc7efd3c",
   "metadata": {},
   "outputs": [
    {
     "data": {
      "image/png": "[encoded data removed]",
      "text/plain": [
       "<Figure size 640x480 with 1 Axes>"
      ]
     },
     "metadata": {},
     "output_type": "display_data"
    }
   ],
   "source": [
    "lab_zcta_info['total_profit'].hist()\n",
    "plt.title('Distribuição do lucro total por ZCTA')\n",
    "plt.xlabel('Lucro total')\n",
    "plt.ylabel('Frequência')\n",
    "plt.show()"
   ]
  },
  {
   "cell_type": "markdown",
   "id": "75d3617c",
   "metadata": {},
   "source": [
    "Portanto, realizamos a transformação logaritma no lucro para reduzir o efeito da concentração de ZCTAs com baixo lucro"
   ]
  },
  {
   "cell_type": "code",
   "execution_count": 60,
   "id": "c76f8b9c",
   "metadata": {},
   "outputs": [],
   "source": [
    "# transformação logaritma\n",
    "lab_zcta_info['total_profit_log'] = np.log(lab_zcta_info['total_profit'])"
   ]
  },
  {
   "cell_type": "code",
   "execution_count": 61,
   "id": "e170c367",
   "metadata": {},
   "outputs": [
    {
     "data": {
      "image/png": "[encoded data removed]",
      "text/plain": [
       "<Figure size 640x480 with 1 Axes>"
      ]
     },
     "metadata": {},
     "output_type": "display_data"
    }
   ],
   "source": [
    "lab_zcta_info['total_profit_log'].hist()\n",
    "plt.title('Distribuição do lucro total logarítmo por ZCTA')\n",
    "plt.xlabel('Lucro total logarítmo')\n",
    "plt.ylabel('Frequência')\n",
    "plt.show()"
   ]
  },
  {
   "cell_type": "markdown",
   "id": "815ad82e",
   "metadata": {},
   "source": [
    "Como resultado obtemos uma distribuição do lucro próxima da distribuição normal"
   ]
  },
  {
   "cell_type": "markdown",
   "id": "3711fc7c",
   "metadata": {},
   "source": [
    "## Análise Exploratória de Dados"
   ]
  },
  {
   "cell_type": "markdown",
   "id": "fe9f22dc",
   "metadata": {},
   "source": [
    "Esta análise exploratória será focada em responder as hipóteses de negócio, portanto todas as transformações e gráficos serão direcionados a isto.\n"
   ]
  },
  {
   "cell_type": "markdown",
   "id": "0374105b",
   "metadata": {},
   "source": [
    "### Áreas com maior poder aquisitivo (renda familiar) têm maior potencial de lucro para os laboratórios."
   ]
  },
  {
   "cell_type": "code",
   "execution_count": 63,
   "id": "b08c54e7",
   "metadata": {},
   "outputs": [
    {
     "data": {
      "image/png": "[encoded data removed]",
      "text/plain": [
       "<Figure size 640x480 with 1 Axes>"
      ]
     },
     "metadata": {},
     "output_type": "display_data"
    }
   ],
   "source": [
    "plt.scatter(lab_zcta_info['WeightedMeanIncome'], lab_zcta_info['total_profit_log'])\n",
    "plt.xlabel('Renda média familiar')\n",
    "plt.ylabel('Lucro dos laboratórios na região')\n",
    "plt.title('Renda familiar x Lucro dos laboratórios')\n",
    "plt.show()"
   ]
  },
  {
   "cell_type": "markdown",
   "id": "5b14da34",
   "metadata": {},
   "source": [
    "**Conclusão:** \n",
    "\n",
    "Uma região mais rica (renda familiar média) não necessariamente se traduz em um maior lucro dos laboratório na região."
   ]
  },
  {
   "cell_type": "markdown",
   "id": "e81e6c04",
   "metadata": {},
   "source": [
    "### Áreas com maior densidade populacional apresentam maior lucro para os laboratórios."
   ]
  },
  {
   "cell_type": "code",
   "execution_count": 62,
   "metadata": {},
   "outputs": [
    {
     "data": {
      "image/png": "[encoded data removed]",
      "text/plain": [
       "<Figure size 640x480 with 1 Axes>"
      ]
     },
     "metadata": {},
     "output_type": "display_data"
    }
   ],
   "source": [
    "plt.scatter(lab_zcta_info['TotalPopulation'], lab_zcta_info['total_profit_log'])\n",
    "plt.xlabel('População total da região')\n",
    "plt.ylabel('Lucro dos laboratórios na região')\n",
    "plt.title('Densidade populacional x Lucro dos laboratórios')\n",
    "plt.show()"
   ]
  },
  {
   "cell_type": "markdown",
   "id": "94fe54a0",
   "metadata": {},
   "source": [
    "**Conclusão:**\n",
    "\n",
    "É possível perceber laboratórios em regiões mais povoadas tendem a obter maior lucro. A relação não é linear, porém é possível visualizar um padrão."
   ]
  },
  {
   "cell_type": "markdown",
   "id": "2b0b3fe9",
   "metadata": {},
   "source": [
    "### Áreas com população mais feminina apresentam maior demanda de serviços de laboratório."
   ]
  },
  {
   "cell_type": "code",
   "execution_count": 69,
   "metadata": {},
   "outputs": [
    {
     "data": {
      "image/png": "[encoded data removed]",
      "text/plain": [
       "<Figure size 640x480 with 1 Axes>"
      ]
     },
     "metadata": {},
     "output_type": "display_data"
    }
   ],
   "source": [
    "plt.scatter(lab_zcta_info['male_female_ratio'], \n",
    "            lab_zcta_info['total_services'])\n",
    "plt.xlabel('Razão de homens para mulheres')\n",
    "plt.ylabel('Serviços realizados')\n",
    "plt.title('Razão de homens para mulheres x Serviços realizados')\n",
    "plt.show()"
   ]
  },
  {
   "cell_type": "markdown",
   "id": "673d51f1",
   "metadata": {},
   "source": [
    "**Conclusão:**\n",
    "\n",
    "Não é possível perceber um padrão claro entre a razão de homens para mulheres e o total de serviços realizados, mesmo desconsidrando valores extremos."
   ]
  },
  {
   "cell_type": "markdown",
   "id": "af956158",
   "metadata": {},
   "source": [
    "### Áreas com população mais idosa apresentam maior demanda de serviços de laboratório."
   ]
  },
  {
   "cell_type": "code",
   "execution_count": 68,
   "metadata": {},
   "outputs": [
    {
     "data": {
      "image/png": "[encoded data removed]",
      "text/plain": [
       "<Figure size 640x480 with 1 Axes>"
      ]
     },
     "metadata": {},
     "output_type": "display_data"
    }
   ],
   "source": [
    "plt.scatter(lab_zcta_info['MedianAgeInYears'], lab_zcta_info['total_services'])\n",
    "plt.xlabel('Idade média na região')\n",
    "plt.ylabel('Serviços realizados')\n",
    "plt.title('Idade média na região x Serviços realizados')\n",
    "plt.show()"
   ]
  },
  {
   "cell_type": "markdown",
   "id": "5a94c927",
   "metadata": {},
   "source": [
    "**Conclusão:**\n",
    "\n",
    "Não é possível perceber o efeito da idade média da região em relação a quantidade de serviços realizados. Como proposta de trabalhos futuros pode ser investigado o efeito de faixas etárias específicas na quantidade de serviços realizados."
   ]
  },
  {
   "cell_type": "markdown",
   "id": "5939d7da",
   "metadata": {},
   "source": [
    "### Áreas com mais de um laboratório apresentam menor lucro."
   ]
  },
  {
   "cell_type": "code",
   "execution_count": 70,
   "id": "b3f7ee57",
   "metadata": {},
   "outputs": [
    {
     "data": {
      "image/png": "[encoded data removed]",
      "text/plain": [
       "<Figure size 640x480 with 1 Axes>"
      ]
     },
     "metadata": {},
     "output_type": "display_data"
    }
   ],
   "source": [
    "plt.scatter(lab_zcta_info['number_of_labs'], lab_zcta_info['total_profit_log'])\n",
    "plt.xlabel('Número de laboratórios na região')\n",
    "plt.ylabel('Lucro dos laboratórios na região')\n",
    "plt.title('Número de laboratórios x Lucro dos laboratórios')\n",
    "plt.show()"
   ]
  },
  {
   "cell_type": "markdown",
   "id": "274583e9",
   "metadata": {},
   "source": [
    "Não é possível perceber um padrão entre o número de laboratórios em uma região e o lucro da região. Porém, a quantidade de regiões com mais de um laboratório é pequena para tirar uma conclusão afirmativa sobre esta hipótese.\n",
    "\n",
    "É possível, por exemplo, que uma região possua densidade populacional o suficiente para justificar a implementação de mais de um laboratório. Porém, este estudo dispõe de dados insuficientes para fazer esta afirmação. Como proposta de estudos futuros pretende-se aprofundar nesta hipótese."
   ]
  },
  {
   "cell_type": "markdown",
   "id": "0d1ab578",
   "metadata": {},
   "source": [
    "### Resumo da análise"
   ]
  },
  {
   "cell_type": "markdown",
   "id": "1bdb2919",
   "metadata": {},
   "source": [
    "A análise exploratória buscou validar as hipóteses de negócio relacionadas aos laboratórios e suas áreas geográficas. Um resumo das principais conclusões deste estudo:\n",
    "\n",
    "1. **Renda Familiar x Lucro dos Laboratórios**:\n",
    "    - Não foi identificada uma relação clara entre a renda média familiar e o lucro dos laboratórios na região. Regiões mais ricas não necessariamente apresentam maior lucro.\n",
    "\n",
    "2. **Densidade Populacional x Lucro dos Laboratórios**:\n",
    "    - Observou-se que regiões mais povoadas tendem a gerar maior lucro para os laboratórios. Apesar de a relação não ser linear, há um padrão perceptível.\n",
    "\n",
    "3. **Razão de Homens para Mulheres x Serviços Realizados**:\n",
    "    - Não foi possível identificar um padrão claro entre a razão de homens para mulheres e o total de serviços realizados, mesmo ao desconsiderar valores extremos.\n",
    "\n",
    "4. **Idade Média da População x Serviços Realizados**:\n",
    "    - Não foi observada uma relação evidente entre a idade média da população e a quantidade de serviços realizados. Sugere-se investigar o impacto de faixas etárias específicas em análises futuras.\n",
    "\n",
    "5. **Número de Laboratórios x Lucro**:\n",
    "    - Não foi identificado um padrão entre o número de laboratórios em uma região e o lucro total. A baixa quantidade de regiões com mais de um laboratório dificulta conclusões definitivas.\n"
   ]
  },
  {
   "cell_type": "markdown",
   "id": "2de461ba",
   "metadata": {},
   "source": [
    "## Proposta de solução"
   ]
  },
  {
   "cell_type": "markdown",
   "id": "be0861da",
   "metadata": {},
   "source": [
    "Baseado nas análises anteriores, propõe-se indicar as ZCTAs com maior densidade populacional que ainda não possuem um laboratório em funcionamento."
   ]
  },
  {
   "cell_type": "code",
   "execution_count": 76,
   "metadata": {},
   "outputs": [],
   "source": [
    "zctas_with_labs = lab_zcta_info[\"Geographic Area Name\"].unique()"
   ]
  },
  {
   "cell_type": "code",
   "execution_count": 92,
   "metadata": {},
   "outputs": [],
   "source": [
    "proposed_zctas = df_demographic[\n",
    "    ~df_demographic[\"Geographic Area Name\"].isin(zctas_with_labs)\n",
    "].sort_values(\n",
    "    \"TotalPopulation\", ascending=False\n",
    ").head(3)['Geographic Area Name'].tolist()"
   ]
  },
  {
   "cell_type": "code",
   "execution_count": 93,
   "metadata": {},
   "outputs": [
    {
     "data": {
      "text/plain": [
       "['ZCTA5 77449', 'ZCTA5 77494', 'ZCTA5 11368']"
      ]
     },
     "execution_count": 93,
     "metadata": {},
     "output_type": "execute_result"
    }
   ],
   "source": [
    "proposed_zctas"
   ]
  },
  {
   "cell_type": "markdown",
   "id": "6c418e6e",
   "metadata": {},
   "source": [
    "Desta forma, as zonas indicadas são: \n",
    "\n",
    "- ZCTA5 77449\n",
    "- ZCTA5 77494\n",
    "- ZCTA5 11368"
   ]
  },
  {
   "cell_type": "markdown",
   "id": "93e1440e",
   "metadata": {},
   "source": [
    "Salvando as zonas indicadas em arquivo .txt"
   ]
  },
  {
   "cell_type": "code",
   "execution_count": 100,
   "id": "f396a7ec",
   "metadata": {},
   "outputs": [],
   "source": [
    "# Checa se diretório existe\n",
    "os.makedirs('analytics_data', exist_ok=True)\n",
    "\n",
    "# Escreve recomendação\n",
    "with open('analytics_data/proposed_zctas.txt', 'w') as file:\n",
    "    for zcta in proposed_zctas:\n",
    "        file.write(f\"{zcta}\\n\")"
   ]
  },
  {
   "cell_type": "code",
   "execution_count": null,
   "id": "7a3305f0",
   "metadata": {},
   "outputs": [],
   "source": []
  }
 ],
 "metadata": {
  "kernelspec": {
   "display_name": ".case_elo_env",
   "language": "python",
   "name": "python3"
  },
  "language_info": {
   "codemirror_mode": {
    "name": "ipython",
    "version": 3
   },
   "file_extension": ".py",
   "mimetype": "text/x-python",
   "name": "python",
   "nbconvert_exporter": "python",
   "pygments_lexer": "ipython3",
   "version": "3.12.3"
  }
 },
 "nbformat": 4,
 "nbformat_minor": 5
}
